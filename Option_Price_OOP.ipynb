{
  "cells": [
    {
      "cell_type": "code",
      "execution_count": 2,
      "metadata": {
        "id": "JiFrSWWN0kLs"
      },
      "outputs": [
        {
          "data": {
            "text/plain": [
              "6.888728577680624"
            ]
          },
          "execution_count": 2,
          "metadata": {},
          "output_type": "execute_result"
        }
      ],
      "source": [
        "from abc import ABC, abstractmethod\n",
        "import math\n",
        "from scipy.stats import norm\n",
        "import numpy as np\n",
        "\n",
        "\n",
        "#\n",
        "class Option(ABC):\n",
        "    def __init__(self, spot, strike, risk_free, time_to_maturity, volatility):\n",
        "        self.spot: float = spot  # Spot price of the underlying asset\n",
        "        self.strike: float = strike  # Strike price of the option\n",
        "        self.risk_free: float = risk_free  # Risk-free interest rate\n",
        "        self.ttm: float = time_to_maturity  # Time to expiration (in years)\n",
        "        self.vol: float = volatility  # Volatility of the underlying asset\n",
        "\n",
        "    def compute_d1(self):\n",
        "        d1 = (math.log(self.spot / self.strike) + (self.risk_free + 0.5 * self.vol ** 2) * self.ttm) / \\\n",
        "             (self.vol * math.sqrt(self.ttm))\n",
        "        return d1\n",
        "\n",
        "    def compute_d2(self):\n",
        "        d2 = self.compute_d1() - self.vol * math.sqrt(self.ttm)\n",
        "        return d2\n",
        "\n",
        "    def compute_vega(self):\n",
        "        return self.spot * norm.pdf(self.compute_d1()) * math.sqrt(self.ttm)\n",
        "\n",
        "    @abstractmethod # Use of decorators to ensure that classes that inherits from Option implements those methods\n",
        "    def compute_gamma(self):\n",
        "        return norm.pdf(self.compute_d1()) / (self.spot * self.vol * math.sqrt(self.ttm))\n",
        "\n",
        "    @abstractmethod\n",
        "    def compute_delta(self):\n",
        "        ...\n",
        "\n",
        "    @abstractmethod\n",
        "    def compute_price(self):\n",
        "        ...\n",
        "\n",
        "    @abstractmethod\n",
        "    def compute_rho(self):\n",
        "        ...\n",
        "\n",
        "    @abstractmethod\n",
        "    def compute_theta(self):\n",
        "        ...\n",
        "\n",
        "class Call(Option):\n",
        "    def compute_gamma(self):\n",
        "      return super().compute_gamma()\n",
        "\n",
        "    def compute_price(self):\n",
        "        n_d1 = norm.cdf(self.compute_d1())\n",
        "        n_d2 = norm.cdf(self.compute_d2())\n",
        "        return self.spot * n_d1 - self.strike * math.exp(-self.risk_free * self.ttm) * n_d2\n",
        "\n",
        "    def compute_delta(self):\n",
        "        return norm.cdf(self.compute_d1())\n",
        "\n",
        "    def compute_rho(self):\n",
        "        return self.strike * self.ttm * math.exp(-self.risk_free * self.ttm) * norm.cdf(self.compute_d2())\n",
        "\n",
        "    def compute_theta(self):\n",
        "        return (-self.spot * self.vol * norm.pdf(self.compute_d1()) / (2 * math.sqrt(self.ttm))) \\\n",
        "               + self.risk_free * self.strike * math.exp(-self.risk_free * self.ttm) * norm.cdf(self.compute_d2())\n",
        "\n",
        "\n",
        "class Put(Option):\n",
        "    def compute_price(self):\n",
        "        n_minus_d1 = norm.cdf(-self.compute_d1())\n",
        "        n_minus_d2 = norm.cdf(-self.compute_d2())\n",
        "        return self.strike * math.exp(-self.risk_free * self.ttm) * n_minus_d2 - self.spot * n_minus_d1\n",
        "\n",
        "    def compute_delta(self):\n",
        "        return norm.cdf(self.compute_d1()) - 1\n",
        "\n",
        "    def compute_rho(self):\n",
        "        return -self.strike * self.ttm * math.exp(-self.risk_free * self.ttm) * norm.cdf(-self.compute_d2())\n",
        "\n",
        "    def compute_theta(self):\n",
        "        return (-self.spot * self.vol * norm.pdf(self.compute_d1()) / (2 * math.sqrt(self.ttm))) \\\n",
        "               - self.risk_free * self.strike * math.exp(-self.risk_free * self.ttm) * norm.cdf(-self.compute_d2())\n",
        "\n",
        "\n",
        "call = Call(spot=100, strike=100, risk_free=0.05, time_to_maturity=0.5, volatility=0.2)\n",
        "call.compute_price()"
      ]
    }
  ],
  "metadata": {
    "colab": {
      "provenance": []
    },
    "kernelspec": {
      "display_name": "Python 3",
      "name": "python3"
    },
    "language_info": {
      "codemirror_mode": {
        "name": "ipython",
        "version": 3
      },
      "file_extension": ".py",
      "mimetype": "text/x-python",
      "name": "python",
      "nbconvert_exporter": "python",
      "pygments_lexer": "ipython3",
      "version": "3.11.2"
    }
  },
  "nbformat": 4,
  "nbformat_minor": 0
}
